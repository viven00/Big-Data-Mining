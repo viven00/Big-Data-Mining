{
 "cells": [
  {
   "cell_type": "markdown",
   "id": "b6d30a9b",
   "metadata": {},
   "source": [
    "## Classification Algorithms\n",
    "\n",
    "- KNN classifier\n",
    "- Decisioin Tree Classifier\n",
    "- Naive Bayes Classifier"
   ]
  },
  {
   "cell_type": "code",
   "execution_count": 1,
   "id": "35004c73",
   "metadata": {},
   "outputs": [],
   "source": [
    "# import needed libraries\n",
    "import pandas as pd\n",
    "import numpy as np\n",
    "import seaborn as sns\n",
    "from matplotlib import pyplot as plt\n",
    "%matplotlib inline\n",
    "\n",
    "from sklearn.preprocessing import StandardScaler\n",
    "\n",
    "from sklearn.neighbors import KNeighborsClassifier\n",
    "from sklearn.naive_bayes import GaussianNB\n",
    "from sklearn.tree import DecisionTreeClassifier\n",
    "\n",
    "from sklearn.base import BaseEstimator, TransformerMixin\n",
    "\n",
    "from sklearn.model_selection import StratifiedShuffleSplit, GridSearchCV\n",
    "\n",
    "from sklearn import metrics\n",
    "from sklearn.metrics import accuracy_score"
   ]
  },
  {
   "cell_type": "markdown",
   "id": "7702379f",
   "metadata": {},
   "source": [
    "## Discover and visualise the data"
   ]
  },
  {
   "cell_type": "code",
   "execution_count": 2,
   "id": "fb0f9eeb",
   "metadata": {},
   "outputs": [
    {
     "data": {
      "text/html": [
       "<div>\n",
       "<style scoped>\n",
       "    .dataframe tbody tr th:only-of-type {\n",
       "        vertical-align: middle;\n",
       "    }\n",
       "\n",
       "    .dataframe tbody tr th {\n",
       "        vertical-align: top;\n",
       "    }\n",
       "\n",
       "    .dataframe thead th {\n",
       "        text-align: right;\n",
       "    }\n",
       "</style>\n",
       "<table border=\"1\" class=\"dataframe\">\n",
       "  <thead>\n",
       "    <tr style=\"text-align: right;\">\n",
       "      <th></th>\n",
       "      <th>Usage_kWh</th>\n",
       "      <th>Lagging_Current_Reactive.Power_kVarh</th>\n",
       "      <th>Leading_Current_Reactive_Power_kVarh</th>\n",
       "      <th>CO2(tCO2)</th>\n",
       "      <th>Lagging_Current_Power_Factor</th>\n",
       "      <th>Leading_Current_Power_Factor</th>\n",
       "      <th>NSM</th>\n",
       "      <th>Load_Type</th>\n",
       "    </tr>\n",
       "  </thead>\n",
       "  <tbody>\n",
       "    <tr>\n",
       "      <th>0</th>\n",
       "      <td>3.17</td>\n",
       "      <td>2.95</td>\n",
       "      <td>0.0</td>\n",
       "      <td>0.0</td>\n",
       "      <td>73.21</td>\n",
       "      <td>100.0</td>\n",
       "      <td>900</td>\n",
       "      <td>Light_Load</td>\n",
       "    </tr>\n",
       "    <tr>\n",
       "      <th>1</th>\n",
       "      <td>4.00</td>\n",
       "      <td>4.46</td>\n",
       "      <td>0.0</td>\n",
       "      <td>0.0</td>\n",
       "      <td>66.77</td>\n",
       "      <td>100.0</td>\n",
       "      <td>1800</td>\n",
       "      <td>Light_Load</td>\n",
       "    </tr>\n",
       "    <tr>\n",
       "      <th>2</th>\n",
       "      <td>3.24</td>\n",
       "      <td>3.28</td>\n",
       "      <td>0.0</td>\n",
       "      <td>0.0</td>\n",
       "      <td>70.28</td>\n",
       "      <td>100.0</td>\n",
       "      <td>2700</td>\n",
       "      <td>Light_Load</td>\n",
       "    </tr>\n",
       "    <tr>\n",
       "      <th>3</th>\n",
       "      <td>3.31</td>\n",
       "      <td>3.56</td>\n",
       "      <td>0.0</td>\n",
       "      <td>0.0</td>\n",
       "      <td>68.09</td>\n",
       "      <td>100.0</td>\n",
       "      <td>3600</td>\n",
       "      <td>Light_Load</td>\n",
       "    </tr>\n",
       "    <tr>\n",
       "      <th>4</th>\n",
       "      <td>3.82</td>\n",
       "      <td>4.50</td>\n",
       "      <td>0.0</td>\n",
       "      <td>0.0</td>\n",
       "      <td>64.72</td>\n",
       "      <td>100.0</td>\n",
       "      <td>4500</td>\n",
       "      <td>Light_Load</td>\n",
       "    </tr>\n",
       "  </tbody>\n",
       "</table>\n",
       "</div>"
      ],
      "text/plain": [
       "   Usage_kWh  Lagging_Current_Reactive.Power_kVarh  \\\n",
       "0       3.17                                  2.95   \n",
       "1       4.00                                  4.46   \n",
       "2       3.24                                  3.28   \n",
       "3       3.31                                  3.56   \n",
       "4       3.82                                  4.50   \n",
       "\n",
       "   Leading_Current_Reactive_Power_kVarh  CO2(tCO2)  \\\n",
       "0                                   0.0        0.0   \n",
       "1                                   0.0        0.0   \n",
       "2                                   0.0        0.0   \n",
       "3                                   0.0        0.0   \n",
       "4                                   0.0        0.0   \n",
       "\n",
       "   Lagging_Current_Power_Factor  Leading_Current_Power_Factor   NSM  \\\n",
       "0                         73.21                         100.0   900   \n",
       "1                         66.77                         100.0  1800   \n",
       "2                         70.28                         100.0  2700   \n",
       "3                         68.09                         100.0  3600   \n",
       "4                         64.72                         100.0  4500   \n",
       "\n",
       "    Load_Type  \n",
       "0  Light_Load  \n",
       "1  Light_Load  \n",
       "2  Light_Load  \n",
       "3  Light_Load  \n",
       "4  Light_Load  "
      ]
     },
     "execution_count": 2,
     "metadata": {},
     "output_type": "execute_result"
    }
   ],
   "source": [
    "# read data from csv file\n",
    "df = pd.read_csv(\"/Users/viventan/Downloads/Steel_industry_data.csv\")\n",
    "\n",
    "#Data Preprocessing\n",
    "df = df.iloc[:,[1,2,3,4,5,6,7,10]]\n",
    "\n",
    "# display the first 5 rows of data\n",
    "df.head()"
   ]
  },
  {
   "cell_type": "code",
   "execution_count": 3,
   "id": "555f3553",
   "metadata": {},
   "outputs": [
    {
     "data": {
      "text/plain": [
       "(35040, 8)"
      ]
     },
     "execution_count": 3,
     "metadata": {},
     "output_type": "execute_result"
    }
   ],
   "source": [
    "# check the shape of the dataframe\n",
    "df.shape"
   ]
  },
  {
   "cell_type": "markdown",
   "id": "baba6934",
   "metadata": {},
   "source": [
    "#### Findings:\n",
    "\n",
    "(1) Based on the Pandas .shape property, it shows this dataframe contains 35040 rows and 8 columns."
   ]
  },
  {
   "cell_type": "code",
   "execution_count": 4,
   "id": "a245ab3f",
   "metadata": {},
   "outputs": [
    {
     "name": "stdout",
     "output_type": "stream",
     "text": [
      "<class 'pandas.core.frame.DataFrame'>\n",
      "RangeIndex: 35040 entries, 0 to 35039\n",
      "Data columns (total 8 columns):\n",
      " #   Column                                Non-Null Count  Dtype  \n",
      "---  ------                                --------------  -----  \n",
      " 0   Usage_kWh                             35040 non-null  float64\n",
      " 1   Lagging_Current_Reactive.Power_kVarh  35040 non-null  float64\n",
      " 2   Leading_Current_Reactive_Power_kVarh  35040 non-null  float64\n",
      " 3   CO2(tCO2)                             35040 non-null  float64\n",
      " 4   Lagging_Current_Power_Factor          35040 non-null  float64\n",
      " 5   Leading_Current_Power_Factor          35040 non-null  float64\n",
      " 6   NSM                                   35040 non-null  int64  \n",
      " 7   Load_Type                             35040 non-null  object \n",
      "dtypes: float64(6), int64(1), object(1)\n",
      "memory usage: 2.1+ MB\n"
     ]
    }
   ],
   "source": [
    "# display all columns and their data types \n",
    "# and check whether each column contains null values\n",
    "df.info()"
   ]
  },
  {
   "cell_type": "code",
   "execution_count": 5,
   "id": "f6ca050e",
   "metadata": {},
   "outputs": [
    {
     "data": {
      "text/html": [
       "<div>\n",
       "<style scoped>\n",
       "    .dataframe tbody tr th:only-of-type {\n",
       "        vertical-align: middle;\n",
       "    }\n",
       "\n",
       "    .dataframe tbody tr th {\n",
       "        vertical-align: top;\n",
       "    }\n",
       "\n",
       "    .dataframe thead th {\n",
       "        text-align: right;\n",
       "    }\n",
       "</style>\n",
       "<table border=\"1\" class=\"dataframe\">\n",
       "  <thead>\n",
       "    <tr style=\"text-align: right;\">\n",
       "      <th></th>\n",
       "      <th>Usage_kWh</th>\n",
       "      <th>Lagging_Current_Reactive.Power_kVarh</th>\n",
       "      <th>Leading_Current_Reactive_Power_kVarh</th>\n",
       "      <th>CO2(tCO2)</th>\n",
       "      <th>Lagging_Current_Power_Factor</th>\n",
       "      <th>Leading_Current_Power_Factor</th>\n",
       "      <th>NSM</th>\n",
       "    </tr>\n",
       "  </thead>\n",
       "  <tbody>\n",
       "    <tr>\n",
       "      <th>count</th>\n",
       "      <td>35040.000000</td>\n",
       "      <td>35040.000000</td>\n",
       "      <td>35040.000000</td>\n",
       "      <td>35040.000000</td>\n",
       "      <td>35040.000000</td>\n",
       "      <td>35040.000000</td>\n",
       "      <td>35040.000000</td>\n",
       "    </tr>\n",
       "    <tr>\n",
       "      <th>mean</th>\n",
       "      <td>27.386892</td>\n",
       "      <td>13.035384</td>\n",
       "      <td>3.870949</td>\n",
       "      <td>0.011524</td>\n",
       "      <td>80.578056</td>\n",
       "      <td>84.367870</td>\n",
       "      <td>42750.000000</td>\n",
       "    </tr>\n",
       "    <tr>\n",
       "      <th>std</th>\n",
       "      <td>33.444380</td>\n",
       "      <td>16.306000</td>\n",
       "      <td>7.424463</td>\n",
       "      <td>0.016151</td>\n",
       "      <td>18.921322</td>\n",
       "      <td>30.456535</td>\n",
       "      <td>24940.534317</td>\n",
       "    </tr>\n",
       "    <tr>\n",
       "      <th>min</th>\n",
       "      <td>0.000000</td>\n",
       "      <td>0.000000</td>\n",
       "      <td>0.000000</td>\n",
       "      <td>0.000000</td>\n",
       "      <td>0.000000</td>\n",
       "      <td>0.000000</td>\n",
       "      <td>0.000000</td>\n",
       "    </tr>\n",
       "    <tr>\n",
       "      <th>25%</th>\n",
       "      <td>3.200000</td>\n",
       "      <td>2.300000</td>\n",
       "      <td>0.000000</td>\n",
       "      <td>0.000000</td>\n",
       "      <td>63.320000</td>\n",
       "      <td>99.700000</td>\n",
       "      <td>21375.000000</td>\n",
       "    </tr>\n",
       "    <tr>\n",
       "      <th>50%</th>\n",
       "      <td>4.570000</td>\n",
       "      <td>5.000000</td>\n",
       "      <td>0.000000</td>\n",
       "      <td>0.000000</td>\n",
       "      <td>87.960000</td>\n",
       "      <td>100.000000</td>\n",
       "      <td>42750.000000</td>\n",
       "    </tr>\n",
       "    <tr>\n",
       "      <th>75%</th>\n",
       "      <td>51.237500</td>\n",
       "      <td>22.640000</td>\n",
       "      <td>2.090000</td>\n",
       "      <td>0.020000</td>\n",
       "      <td>99.022500</td>\n",
       "      <td>100.000000</td>\n",
       "      <td>64125.000000</td>\n",
       "    </tr>\n",
       "    <tr>\n",
       "      <th>max</th>\n",
       "      <td>157.180000</td>\n",
       "      <td>96.910000</td>\n",
       "      <td>27.760000</td>\n",
       "      <td>0.070000</td>\n",
       "      <td>100.000000</td>\n",
       "      <td>100.000000</td>\n",
       "      <td>85500.000000</td>\n",
       "    </tr>\n",
       "  </tbody>\n",
       "</table>\n",
       "</div>"
      ],
      "text/plain": [
       "          Usage_kWh  Lagging_Current_Reactive.Power_kVarh  \\\n",
       "count  35040.000000                          35040.000000   \n",
       "mean      27.386892                             13.035384   \n",
       "std       33.444380                             16.306000   \n",
       "min        0.000000                              0.000000   \n",
       "25%        3.200000                              2.300000   \n",
       "50%        4.570000                              5.000000   \n",
       "75%       51.237500                             22.640000   \n",
       "max      157.180000                             96.910000   \n",
       "\n",
       "       Leading_Current_Reactive_Power_kVarh     CO2(tCO2)  \\\n",
       "count                          35040.000000  35040.000000   \n",
       "mean                               3.870949      0.011524   \n",
       "std                                7.424463      0.016151   \n",
       "min                                0.000000      0.000000   \n",
       "25%                                0.000000      0.000000   \n",
       "50%                                0.000000      0.000000   \n",
       "75%                                2.090000      0.020000   \n",
       "max                               27.760000      0.070000   \n",
       "\n",
       "       Lagging_Current_Power_Factor  Leading_Current_Power_Factor  \\\n",
       "count                  35040.000000                  35040.000000   \n",
       "mean                      80.578056                     84.367870   \n",
       "std                       18.921322                     30.456535   \n",
       "min                        0.000000                      0.000000   \n",
       "25%                       63.320000                     99.700000   \n",
       "50%                       87.960000                    100.000000   \n",
       "75%                       99.022500                    100.000000   \n",
       "max                      100.000000                    100.000000   \n",
       "\n",
       "                NSM  \n",
       "count  35040.000000  \n",
       "mean   42750.000000  \n",
       "std    24940.534317  \n",
       "min        0.000000  \n",
       "25%    21375.000000  \n",
       "50%    42750.000000  \n",
       "75%    64125.000000  \n",
       "max    85500.000000  "
      ]
     },
     "execution_count": 5,
     "metadata": {},
     "output_type": "execute_result"
    }
   ],
   "source": [
    "# view some basic statistical details of this dataframe\n",
    "df.describe()"
   ]
  },
  {
   "cell_type": "code",
   "execution_count": 6,
   "id": "cfc75dab",
   "metadata": {},
   "outputs": [
    {
     "data": {
      "text/html": [
       "<div>\n",
       "<style scoped>\n",
       "    .dataframe tbody tr th:only-of-type {\n",
       "        vertical-align: middle;\n",
       "    }\n",
       "\n",
       "    .dataframe tbody tr th {\n",
       "        vertical-align: top;\n",
       "    }\n",
       "\n",
       "    .dataframe thead th {\n",
       "        text-align: right;\n",
       "    }\n",
       "</style>\n",
       "<table border=\"1\" class=\"dataframe\">\n",
       "  <thead>\n",
       "    <tr style=\"text-align: right;\">\n",
       "      <th></th>\n",
       "      <th>Usage_kWh</th>\n",
       "      <th>Lagging_Current_Reactive.Power_kVarh</th>\n",
       "      <th>Leading_Current_Reactive_Power_kVarh</th>\n",
       "      <th>CO2(tCO2)</th>\n",
       "      <th>Lagging_Current_Power_Factor</th>\n",
       "      <th>Leading_Current_Power_Factor</th>\n",
       "      <th>NSM</th>\n",
       "    </tr>\n",
       "  </thead>\n",
       "  <tbody>\n",
       "    <tr>\n",
       "      <th>Usage_kWh</th>\n",
       "      <td>1.000000</td>\n",
       "      <td>0.896150</td>\n",
       "      <td>-0.324922</td>\n",
       "      <td>0.988180</td>\n",
       "      <td>0.385960</td>\n",
       "      <td>0.353566</td>\n",
       "      <td>0.234610</td>\n",
       "    </tr>\n",
       "    <tr>\n",
       "      <th>Lagging_Current_Reactive.Power_kVarh</th>\n",
       "      <td>0.896150</td>\n",
       "      <td>1.000000</td>\n",
       "      <td>-0.405142</td>\n",
       "      <td>0.886948</td>\n",
       "      <td>0.144534</td>\n",
       "      <td>0.407716</td>\n",
       "      <td>0.082662</td>\n",
       "    </tr>\n",
       "    <tr>\n",
       "      <th>Leading_Current_Reactive_Power_kVarh</th>\n",
       "      <td>-0.324922</td>\n",
       "      <td>-0.405142</td>\n",
       "      <td>1.000000</td>\n",
       "      <td>-0.332777</td>\n",
       "      <td>0.526770</td>\n",
       "      <td>-0.944039</td>\n",
       "      <td>0.371605</td>\n",
       "    </tr>\n",
       "    <tr>\n",
       "      <th>CO2(tCO2)</th>\n",
       "      <td>0.988180</td>\n",
       "      <td>0.886948</td>\n",
       "      <td>-0.332777</td>\n",
       "      <td>1.000000</td>\n",
       "      <td>0.379605</td>\n",
       "      <td>0.360019</td>\n",
       "      <td>0.231726</td>\n",
       "    </tr>\n",
       "    <tr>\n",
       "      <th>Lagging_Current_Power_Factor</th>\n",
       "      <td>0.385960</td>\n",
       "      <td>0.144534</td>\n",
       "      <td>0.526770</td>\n",
       "      <td>0.379605</td>\n",
       "      <td>1.000000</td>\n",
       "      <td>-0.519967</td>\n",
       "      <td>0.565270</td>\n",
       "    </tr>\n",
       "    <tr>\n",
       "      <th>Leading_Current_Power_Factor</th>\n",
       "      <td>0.353566</td>\n",
       "      <td>0.407716</td>\n",
       "      <td>-0.944039</td>\n",
       "      <td>0.360019</td>\n",
       "      <td>-0.519967</td>\n",
       "      <td>1.000000</td>\n",
       "      <td>-0.360563</td>\n",
       "    </tr>\n",
       "    <tr>\n",
       "      <th>NSM</th>\n",
       "      <td>0.234610</td>\n",
       "      <td>0.082662</td>\n",
       "      <td>0.371605</td>\n",
       "      <td>0.231726</td>\n",
       "      <td>0.565270</td>\n",
       "      <td>-0.360563</td>\n",
       "      <td>1.000000</td>\n",
       "    </tr>\n",
       "  </tbody>\n",
       "</table>\n",
       "</div>"
      ],
      "text/plain": [
       "                                      Usage_kWh  \\\n",
       "Usage_kWh                              1.000000   \n",
       "Lagging_Current_Reactive.Power_kVarh   0.896150   \n",
       "Leading_Current_Reactive_Power_kVarh  -0.324922   \n",
       "CO2(tCO2)                              0.988180   \n",
       "Lagging_Current_Power_Factor           0.385960   \n",
       "Leading_Current_Power_Factor           0.353566   \n",
       "NSM                                    0.234610   \n",
       "\n",
       "                                      Lagging_Current_Reactive.Power_kVarh  \\\n",
       "Usage_kWh                                                         0.896150   \n",
       "Lagging_Current_Reactive.Power_kVarh                              1.000000   \n",
       "Leading_Current_Reactive_Power_kVarh                             -0.405142   \n",
       "CO2(tCO2)                                                         0.886948   \n",
       "Lagging_Current_Power_Factor                                      0.144534   \n",
       "Leading_Current_Power_Factor                                      0.407716   \n",
       "NSM                                                               0.082662   \n",
       "\n",
       "                                      Leading_Current_Reactive_Power_kVarh  \\\n",
       "Usage_kWh                                                        -0.324922   \n",
       "Lagging_Current_Reactive.Power_kVarh                             -0.405142   \n",
       "Leading_Current_Reactive_Power_kVarh                              1.000000   \n",
       "CO2(tCO2)                                                        -0.332777   \n",
       "Lagging_Current_Power_Factor                                      0.526770   \n",
       "Leading_Current_Power_Factor                                     -0.944039   \n",
       "NSM                                                               0.371605   \n",
       "\n",
       "                                      CO2(tCO2)  Lagging_Current_Power_Factor  \\\n",
       "Usage_kWh                              0.988180                      0.385960   \n",
       "Lagging_Current_Reactive.Power_kVarh   0.886948                      0.144534   \n",
       "Leading_Current_Reactive_Power_kVarh  -0.332777                      0.526770   \n",
       "CO2(tCO2)                              1.000000                      0.379605   \n",
       "Lagging_Current_Power_Factor           0.379605                      1.000000   \n",
       "Leading_Current_Power_Factor           0.360019                     -0.519967   \n",
       "NSM                                    0.231726                      0.565270   \n",
       "\n",
       "                                      Leading_Current_Power_Factor       NSM  \n",
       "Usage_kWh                                                 0.353566  0.234610  \n",
       "Lagging_Current_Reactive.Power_kVarh                      0.407716  0.082662  \n",
       "Leading_Current_Reactive_Power_kVarh                     -0.944039  0.371605  \n",
       "CO2(tCO2)                                                 0.360019  0.231726  \n",
       "Lagging_Current_Power_Factor                             -0.519967  0.565270  \n",
       "Leading_Current_Power_Factor                              1.000000 -0.360563  \n",
       "NSM                                                      -0.360563  1.000000  "
      ]
     },
     "execution_count": 6,
     "metadata": {},
     "output_type": "execute_result"
    }
   ],
   "source": [
    "#  returns the correlation matrix of the dataframe\n",
    "df.corr()"
   ]
  },
  {
   "cell_type": "code",
   "execution_count": 7,
   "id": "9f5ef25c",
   "metadata": {},
   "outputs": [
    {
     "data": {
      "image/png": "[encoded data removed]",
      "text/plain": [
       "<Figure size 1080x576 with 2 Axes>"
      ]
     },
     "metadata": {
      "needs_background": "light"
     },
     "output_type": "display_data"
    }
   ],
   "source": [
    "# visualize the correlation of all columns in this dataframe\n",
    "plt.figure(figsize=(15,8))\n",
    "\n",
    "# using heapmap to plot\n",
    "sns.heatmap(df.corr(), annot=True)\n",
    "\n",
    "# show the plot\n",
    "plt.show()"
   ]
  },
  {
   "cell_type": "code",
   "execution_count": 8,
   "id": "be42a4db",
   "metadata": {},
   "outputs": [
    {
     "data": {
      "text/plain": [
       "Load_Type\n",
       "Light_Load      18072\n",
       "Maximum_Load     7272\n",
       "Medium_Load      9696\n",
       "dtype: int64"
      ]
     },
     "execution_count": 8,
     "metadata": {},
     "output_type": "execute_result"
    }
   ],
   "source": [
    "# show the tota number of each load types in this dataframe\n",
    "df.groupby('Load_Type').size()"
   ]
  },
  {
   "cell_type": "code",
   "execution_count": 9,
   "id": "39f5776f",
   "metadata": {},
   "outputs": [
    {
     "data": {
      "image/png": "[encoded data removed]",
      "text/plain": [
       "<Figure size 432x288 with 1 Axes>"
      ]
     },
     "metadata": {
      "needs_background": "light"
     },
     "output_type": "display_data"
    }
   ],
   "source": [
    "# visualize the count of each 'Load_Type' in this dataframe\n",
    "plt.title('Count of each Load_Type in this dataframe')\n",
    "sns.set_style('whitegrid')\n",
    "sns.countplot(x=df['Load_Type'], palette = 'gist_rainbow_r')\n",
    "\n",
    "plt.show()"
   ]
  },
  {
   "cell_type": "markdown",
   "id": "c28eda0a",
   "metadata": {},
   "source": [
    "#### Findings:\n",
    "\n",
    "(1) The most number of count of Load Type is Ligh_Load. Then, second more count of Load_Type is Medium_Load. The informations show that Light_Load is the most common load_type.\n",
    "\n",
    "(2) The least number of count of Load Type is Maximum_Load which is less appear."
   ]
  },
  {
   "cell_type": "code",
   "execution_count": 10,
   "id": "6318e728",
   "metadata": {},
   "outputs": [
    {
     "data": {
      "image/png": "[encoded data removed]",
      "text/plain": [
       "<Figure size 432x288 with 1 Axes>"
      ]
     },
     "metadata": {},
     "output_type": "display_data"
    }
   ],
   "source": [
    "# Visualize the relationship between load_type and usage_kWh\n",
    "plt.title('The relationship between Load_Type and Usage_kWh')\n",
    "sns.boxplot(data=df, x='Load_Type', y='Usage_kWh', palette='gist_rainbow_r')\n",
    "\n",
    "plt.show()"
   ]
  },
  {
   "cell_type": "markdown",
   "id": "29dec38a",
   "metadata": {},
   "source": [
    "#### Findings:\n",
    "\n",
    "(1) Light_load contains a outlier far from its maximun value over 140.\n",
    "\n",
    "(2) Maximum_load is in the highest usage_kwh which median falls at 58. Also, it contains upper outlier which falls between 125 and 157.\n"
   ]
  },
  {
   "cell_type": "code",
   "execution_count": 11,
   "id": "56955ed9",
   "metadata": {},
   "outputs": [
    {
     "data": {
      "image/png": "[encoded data removed]",
      "text/plain": [
       "<Figure size 432x288 with 1 Axes>"
      ]
     },
     "metadata": {},
     "output_type": "display_data"
    }
   ],
   "source": [
    "# Visualize the relationship between Load_type and Lagging_Current_Reactive.Power_kVarh\n",
    "plt.title('The relationship between Cover_Type and Lagging_Current_Reactive.Power_kVarh')\n",
    "sns.boxplot(data=df, x='Load_Type', y='Lagging_Current_Reactive.Power_kVarh', palette='gist_rainbow_r')\n",
    "\n",
    "plt.show()"
   ]
  },
  {
   "cell_type": "markdown",
   "id": "36c09b21",
   "metadata": {},
   "source": [
    "#### Findings:\n",
    "\n",
    "Light_load contains an extreme outlier far from its maximun value over 100."
   ]
  },
  {
   "cell_type": "code",
   "execution_count": 12,
   "id": "37b7bcc9",
   "metadata": {},
   "outputs": [
    {
     "data": {
      "image/png": "[encoded data removed]",
      "text/plain": [
       "<Figure size 432x288 with 1 Axes>"
      ]
     },
     "metadata": {},
     "output_type": "display_data"
    }
   ],
   "source": [
    "# Visualize the relationship between load_type and Leading_Current_Reactive_Power_kVarh\n",
    "plt.title('The relationship between Load_Type and Leading_Current_Reactive_Power_kVarh')\n",
    "sns.boxplot(data=df, x='Load_Type', y='Leading_Current_Reactive_Power_kVarh', palette='gist_rainbow_r')\n",
    "\n",
    "plt.show()"
   ]
  },
  {
   "cell_type": "markdown",
   "id": "a1c4e992",
   "metadata": {},
   "source": [
    "#### Findings:\n",
    "\n",
    "Light_load and Maximum_Load both contains a extreme outlier far from its maximun value over 25.\n"
   ]
  },
  {
   "cell_type": "code",
   "execution_count": 13,
   "id": "91541727",
   "metadata": {},
   "outputs": [
    {
     "data": {
      "image/png": "[encoded data removed]",
      "text/plain": [
       "<Figure size 432x288 with 1 Axes>"
      ]
     },
     "metadata": {},
     "output_type": "display_data"
    }
   ],
   "source": [
    "# Visualize the relationship between load_type and CO2(tCO2)\n",
    "plt.title('The relationship between Load_Type and CO2(tCO2)')\n",
    "sns.boxplot(data=df, x='Load_Type', y='CO2(tCO2)', palette='gist_rainbow_r')\n",
    "\n",
    "plt.show()"
   ]
  },
  {
   "cell_type": "markdown",
   "id": "1674e310",
   "metadata": {},
   "source": [
    "#### Findings:\n",
    "\n",
    "As above boxplots, Ligh_Load and Maixmum_load types both has a large outlier far from its maximun value."
   ]
  },
  {
   "cell_type": "code",
   "execution_count": 14,
   "id": "6fa7b9fd",
   "metadata": {},
   "outputs": [
    {
     "data": {
      "image/png": "[encoded data removed]",
      "text/plain": [
       "<Figure size 432x288 with 1 Axes>"
      ]
     },
     "metadata": {},
     "output_type": "display_data"
    }
   ],
   "source": [
    "# Visualize the relationship between load_type and Lagging_Current_Power_Factor\n",
    "plt.title('The relationship between Load_Type and Lagging_Current_Power_Factor')\n",
    "sns.boxplot(data=df, x='Load_Type', y='Lagging_Current_Power_Factor', palette='gist_rainbow_r')\n",
    "\n",
    "plt.show()"
   ]
  },
  {
   "cell_type": "markdown",
   "id": "702903ea",
   "metadata": {},
   "source": [
    "#### Findings:\n",
    "\n",
    "(1) The median of light_load is at 68 and there is no outliers.\n",
    "\n",
    "(2) Medium_Load has the most outliers which compare with Maximum_Load Types.\n"
   ]
  },
  {
   "cell_type": "code",
   "execution_count": 15,
   "id": "4a7af116",
   "metadata": {
    "scrolled": true
   },
   "outputs": [
    {
     "data": {
      "image/png": "[encoded data removed]",
      "text/plain": [
       "<Figure size 432x288 with 1 Axes>"
      ]
     },
     "metadata": {},
     "output_type": "display_data"
    }
   ],
   "source": [
    "# Visualize the relationship between load_type and CO2(tCO2)\n",
    "plt.title('The relationship between Load_Type and Leading_Current_Power_Factor')\n",
    "sns.boxplot(data=df, x='Load_Type', y='Leading_Current_Power_Factor', palette='gist_rainbow_r')\n",
    "\n",
    "plt.show()"
   ]
  },
  {
   "cell_type": "markdown",
   "id": "409c8243",
   "metadata": {},
   "source": [
    "#### Findings:\n",
    "\n",
    "As above boxplots, Ligh_Load and Maximum_Load Types has a extreme outlier far from its maximum value."
   ]
  },
  {
   "cell_type": "code",
   "execution_count": 16,
   "id": "ecca25f4",
   "metadata": {},
   "outputs": [
    {
     "data": {
      "image/png": "[encoded data removed]",
      "text/plain": [
       "<Figure size 432x288 with 1 Axes>"
      ]
     },
     "metadata": {},
     "output_type": "display_data"
    }
   ],
   "source": [
    "# Visualize the relationship between load_type and CO2(tCO2)\n",
    "plt.title('The relationship between Load_Type and NSM')\n",
    "sns.boxplot(data=df, x='Load_Type', y='NSM', palette='gist_rainbow_r')\n",
    "\n",
    "plt.show()"
   ]
  },
  {
   "cell_type": "markdown",
   "id": "80347356",
   "metadata": {},
   "source": [
    "#### Findings:\n",
    "\n",
    "(1) Medium_Load and Maximum_Load do not contains any upper and lower outliers.\n",
    "\n",
    "(2) Light_Load has a upper outlier wchih over 80000.\n"
   ]
  },
  {
   "cell_type": "markdown",
   "id": "8b56d58e",
   "metadata": {},
   "source": [
    "### Prepare the data for machine learning algorithms\n",
    "\n",
    "### We first check if the dataset consist of any missing values"
   ]
  },
  {
   "cell_type": "code",
   "execution_count": 17,
   "id": "242dedbe",
   "metadata": {},
   "outputs": [
    {
     "name": "stdout",
     "output_type": "stream",
     "text": [
      "False\n"
     ]
    }
   ],
   "source": [
    "# Check any missing data for each columns\n",
    "print(df.isnull().values.any())"
   ]
  },
  {
   "cell_type": "markdown",
   "id": "0447e0de",
   "metadata": {},
   "source": [
    "#### Findings:\n",
    "\n",
    "(1) It gives a False rusult which means that this dataframe does not consist any null values."
   ]
  },
  {
   "cell_type": "code",
   "execution_count": 18,
   "id": "17948894",
   "metadata": {},
   "outputs": [
    {
     "name": "stdout",
     "output_type": "stream",
     "text": [
      "(28032, 7) (7008, 7)\n",
      "(28032,) (7008,)\n"
     ]
    }
   ],
   "source": [
    "# seperate the dataset as feature variables and response variable and store them to X and y variables\n",
    "X = df.drop('Load_Type', axis=1)\n",
    "y = df['Load_Type']\n",
    "\n",
    "# use StratifiedShuffleSplit to split the data \n",
    "sss = StratifiedShuffleSplit(n_splits=10, test_size=0.20, random_state=42)\n",
    "sss.get_n_splits(X,y)\n",
    "\n",
    "# using for loop to do the splits\n",
    "for train_index, test_index in sss.split(X, y):\n",
    "    X_train, X_test = X.iloc[train_index], X.iloc[test_index]\n",
    "    y_train, y_test = y.iloc[train_index], y.iloc[test_index]\n",
    "    \n",
    "    \n",
    "#double check the size of the dataframe     \n",
    "print(X_train.shape , X_test.shape)\n",
    "print(y_train.shape , y_test.shape)\n",
    "\n",
    "# using StandardScalar to help us impore the accuracy of the prediction model\n",
    "scalar = StandardScaler()\n",
    "\n",
    "# fit and transform the train data\n",
    "X_train = scalar.fit_transform(X_train)\n",
    "\n",
    "# transform the test data\n",
    "X_test = scalar.transform(X_test)"
   ]
  },
  {
   "cell_type": "markdown",
   "id": "58dbf7d6",
   "metadata": {},
   "source": [
    "#### Findings:\n",
    "\n",
    "(1) After we used StratifiedShuffleSplit to split the data, now the amount of training data becomes 28032 and the amount of testing data becomes 7008."
   ]
  },
  {
   "cell_type": "markdown",
   "id": "472e00ca",
   "metadata": {},
   "source": [
    "## 3 Clssification Models"
   ]
  },
  {
   "cell_type": "markdown",
   "id": "84c8b236",
   "metadata": {},
   "source": [
    "### (1) KNN Classifier"
   ]
  },
  {
   "cell_type": "code",
   "execution_count": 19,
   "id": "c4cd986d",
   "metadata": {},
   "outputs": [
    {
     "name": "stdout",
     "output_type": "stream",
     "text": [
      "Accuracy:  0.865439497716895\n"
     ]
    }
   ],
   "source": [
    "# instantiate the KNN Classifier() model\n",
    "knn = KNeighborsClassifier(n_neighbors=4)\n",
    "\n",
    "# fit the model with X_train and y_train\n",
    "knn.fit(X_train, y_train)\n",
    "\n",
    "# make prediction with X_test\n",
    "y_pred = knn.predict(X_test)\n",
    "\n",
    "# check our models performance\n",
    "print('Accuracy: ',metrics.accuracy_score(y_test, y_pred))"
   ]
  },
  {
   "cell_type": "code",
   "execution_count": 20,
   "id": "09ed7a20",
   "metadata": {},
   "outputs": [
    {
     "name": "stdout",
     "output_type": "stream",
     "text": [
      "Accuracy:  0.9147759703196348\n"
     ]
    }
   ],
   "source": [
    "# check for overfitting\n",
    "# using X_train to do predict and compare with X_test result\n",
    "y_pred = knn.predict(X_train)\n",
    "\n",
    "# check our models performance\n",
    "print('Accuracy: ',metrics.accuracy_score(y_train, y_pred))"
   ]
  },
  {
   "cell_type": "markdown",
   "id": "979d631c",
   "metadata": {},
   "source": [
    "#### Findings:\n",
    "\n",
    "(1) When I set the parameter for the KNN Classifier as (n_neighbors=4) which do a prediction on the testing data and it gives a accuracy 86.54%. When using this model to predict training set data, it gives a 91.48%. Both accuracy only have 4.94% diffence which is not much diffences so it does not occur overfitting issue."
   ]
  },
  {
   "cell_type": "markdown",
   "id": "0838e235",
   "metadata": {},
   "source": [
    "### Tuning the KNN Classifier model"
   ]
  },
  {
   "cell_type": "code",
   "execution_count": 21,
   "id": "632c86be",
   "metadata": {},
   "outputs": [
    {
     "name": "stdout",
     "output_type": "stream",
     "text": [
      "{'leaf_size': 5, 'n_neighbors': 7, 'p': 1}\n",
      "0.8670091301321083\n"
     ]
    }
   ],
   "source": [
    "#Create new KNN object\n",
    "knn_2 = KNeighborsClassifier()\n",
    "\n",
    "# set the hyperparameters for the gridsearchcv to choose the best one\n",
    "knn_param = {\n",
    "             'n_neighbors': [7,9,11],\n",
    "             'leaf_size': [5,7,9],\n",
    "             'p': [1,2]\n",
    "            }\n",
    "\n",
    "# instantiate the gridsearchcv to get the hyperparameter\n",
    "knn_gscv = GridSearchCV(estimator=knn_2, param_grid=knn_param, cv=5, n_jobs=-1)\n",
    "\n",
    "# fit the model with X_train and y_train\n",
    "knn_gscv.fit(X_train, y_train)\n",
    "\n",
    "# check the best performance of parameters\n",
    "print(knn_gscv.best_params_)\n",
    "\n",
    "# print out the result\n",
    "print(knn_gscv.best_score_)"
   ]
  },
  {
   "cell_type": "code",
   "execution_count": 22,
   "id": "4895a62b",
   "metadata": {},
   "outputs": [
    {
     "name": "stdout",
     "output_type": "stream",
     "text": [
      "Accuracy:  0.9044663242009132\n"
     ]
    }
   ],
   "source": [
    "# check for overfitting\n",
    "# using X_train to do predict and compare with X_test result\n",
    "y_pred = knn_gscv.predict(X_train)\n",
    "\n",
    "# check our models performance\n",
    "print('Accuracy: ',metrics.accuracy_score(y_train, y_pred))"
   ]
  },
  {
   "cell_type": "markdown",
   "id": "edd39668",
   "metadata": {},
   "source": [
    "#### Findings:\n",
    "\n",
    "After tuning the model:\n",
    "(1) First, we can see that the accuracy becomes 86.70% which compare with the accuracy 86.54% (without tuning) has an improvement of 0.16%.\n",
    "\n",
    "(2) Next, the tuning model do a prediction of the testing set data is 86.70% and when predict the training data which get a result of 90.45%. It has only a 3.75% differences which does not occur the overfitting issue.\n",
    "\n",
    "(3) Since I set the n_neighbors = 4 when without tuning the model and it gives us 86.54%. However, when tuning the model, I set the n_neighbors in range of [7,9,11] and it chose 7 which increase the accuracy to 86.70%. However, if we do not limit n_neighbors which would occur a overfitting situation. Therefore, we need to try out different values of the n_neighbors to get the optimum result and avoid the overfitting.\n",
    "\n",
    "(4) Furthermore, I set the parameter leaf_size in a range of [5,7,9] and the gridsearchcv chose to use 5 as the leaf_size which give a better accuracy also."
   ]
  },
  {
   "cell_type": "markdown",
   "id": "80fd47d7",
   "metadata": {},
   "source": [
    "### Decision Tree"
   ]
  },
  {
   "cell_type": "code",
   "execution_count": 23,
   "id": "9d2e0a93",
   "metadata": {},
   "outputs": [
    {
     "name": "stdout",
     "output_type": "stream",
     "text": [
      "Accuracy: 0.8115011415525114\n"
     ]
    }
   ],
   "source": [
    "# Create Decision Tree classifer object\n",
    "dt = DecisionTreeClassifier(criterion=\"entropy\", max_depth=5,random_state=42)\n",
    "\n",
    "# Train Decision Tree Classifer\n",
    "dt.fit(X_train,y_train)\n",
    "\n",
    "#Predict the response for test dataset\n",
    "y_pred = dt.predict(X_test)\n",
    "\n",
    "# Model Accuracy, how often is the classifier correct? \n",
    "print(\"Accuracy:\",metrics.accuracy_score(y_test, y_pred))"
   ]
  },
  {
   "cell_type": "code",
   "execution_count": 24,
   "id": "4799a799",
   "metadata": {},
   "outputs": [
    {
     "name": "stdout",
     "output_type": "stream",
     "text": [
      "Accuracy: 0.8091466894977168\n"
     ]
    }
   ],
   "source": [
    "# check for overfitting\n",
    "# using X_train to do predict and compare with X_test result\n",
    "y_pred = dt.predict(X_train)\n",
    "\n",
    "# check our models performance\n",
    "print(\"Accuracy:\",metrics.accuracy_score(y_train, y_pred))"
   ]
  },
  {
   "cell_type": "markdown",
   "id": "1b80176b",
   "metadata": {},
   "source": [
    "#### Findings:\n",
    "\n",
    "When I set the parameter for the Decision Tree Classifier as (criterion=\"entropy\", max_depth=5, random_state=42) which do a prediction on the testing data and it gives a accuracy 81.15%. When using this model to predict training set data, it gives a 80.91%. Both accuracy only have 0.24% differences which is not much differences and we can say that the model does not occur overfitting issue so that the model is good for predicting both training and testing data."
   ]
  },
  {
   "cell_type": "markdown",
   "id": "5895bf11",
   "metadata": {},
   "source": [
    "### Tuning the Decisioin Tree Classifier"
   ]
  },
  {
   "cell_type": "code",
   "execution_count": 25,
   "id": "be20fe67",
   "metadata": {},
   "outputs": [
    {
     "name": "stdout",
     "output_type": "stream",
     "text": [
      "{'criterion': 'gini', 'max_depth': 13, 'min_samples_leaf': 3}\n",
      "0.8863441780821918\n"
     ]
    }
   ],
   "source": [
    "# tuning the Decision Tree model\n",
    "\n",
    "# instantiate the DecisionTreeClassifier() model\n",
    "dt2 = DecisionTreeClassifier(random_state=42)\n",
    "\n",
    "# set the hyperparameters for the gridsearchcv to choose the best one\n",
    "dt_param = { \n",
    "              \"criterion\": [\"gini\", \"entropy\"],\n",
    "              \"max_depth\": [10, 13, 17],\n",
    "              \"min_samples_leaf\": [1, 2, 3]\n",
    "             }\n",
    "\n",
    "# using gridsearchcv to get the best hyperparameter\n",
    "dt_gscv = GridSearchCV(estimator=dt2, param_grid=dt_param, cv=3, n_jobs=-1)\n",
    "\n",
    "# fit the model with X_train and y_train\n",
    "dt_gscv.fit(X_train, y_train)\n",
    "\n",
    "# check the best performance of parameters\n",
    "print(dt_gscv.best_params_)\n",
    "\n",
    "# print out the result\n",
    "print(dt_gscv.best_score_)"
   ]
  },
  {
   "cell_type": "code",
   "execution_count": 26,
   "id": "2f440035",
   "metadata": {},
   "outputs": [
    {
     "name": "stdout",
     "output_type": "stream",
     "text": [
      "0.9230522260273972\n"
     ]
    }
   ],
   "source": [
    "# check for overfitting\n",
    "# using X_train to do predict and compare with X_test result\n",
    "y_pred = dt_gscv.predict(X_train)\n",
    "\n",
    "# check our models performance\n",
    "print(metrics.accuracy_score(y_train, y_pred))"
   ]
  },
  {
   "cell_type": "markdown",
   "id": "e47e3aa2",
   "metadata": {},
   "source": [
    "#### Findings:\n",
    "\n",
    "After tuning the model:\n",
    "\n",
    "(1) First, we can see that the accuracy becomes 88.63% which compare with the accuracy 81.15% (without tuning) has a significant improvement of 7.48%.\n",
    "\n",
    "(2) Next, the tuning model do a prediction of the testing set data is 88.63% and when predict the training data which get a result of 92.31%. It has only a 3.68% differences which does not occur the overfitting issue so that the model is good for predicting both training and testing data.\n",
    "\n",
    "(3) On the other hand, we notice that in the parameter criteria the gridsearchcv chose 'gini' to be the hyperparameter. \n",
    "\n",
    "(4) Besides that, we can see that the max_depth in Decision Tree Classifier has a huge impact. Since I set the max_depth = 5 when without tuning the model and it gives us 81.15%. However, when tuning the model, I set the max_depth in a range [10, 13, 17] and it chose 13 which increase the accuracy to 88.63%. Therefore, we can conclude that the more number splits that each decision tree is allowed to make which get more information about the data. However, if we do not limit the max_depth of the tree which would occur a overfitting situation. Therefore, we need to try out different values of the max_depth to get the optimum result and avoid the overfitting.\n",
    "\n",
    "(5) Furthermore, I set the parameter min_samples_leaf in a range of [1, 2, 3] and the gridsearchcv chose to use 3 as the min_samples_leaf which give a better accuracy also."
   ]
  },
  {
   "cell_type": "markdown",
   "id": "4b11abbf",
   "metadata": {},
   "source": [
    "### (3) Naive Bayes Classifier"
   ]
  },
  {
   "cell_type": "code",
   "execution_count": 27,
   "id": "e6e503b3",
   "metadata": {},
   "outputs": [
    {
     "name": "stdout",
     "output_type": "stream",
     "text": [
      "0.6882134703196348\n"
     ]
    }
   ],
   "source": [
    "# instantiate the GaussianNB() model\n",
    "# testing accurracy \n",
    "nbc = GaussianNB(var_smoothing=3e-9)\n",
    "\n",
    "# fit the model with X_train and y_train\n",
    "nbc.fit(X_train, y_train)\n",
    "\n",
    "# make prediction with X_test\n",
    "y_pred = nbc.predict(X_test)\n",
    "\n",
    "# check our models performance\n",
    "print(metrics.accuracy_score(y_test, y_pred))"
   ]
  },
  {
   "cell_type": "code",
   "execution_count": 28,
   "id": "44fa7b3b",
   "metadata": {},
   "outputs": [
    {
     "name": "stdout",
     "output_type": "stream",
     "text": [
      "0.69099600456621\n"
     ]
    }
   ],
   "source": [
    "# check for overfitting\n",
    "# using X_train to do predict and compare with X_test result\n",
    "y_pred = nbc.predict(X_train)\n",
    "\n",
    "# check our models performanc\n",
    "print(accuracy_score(y_train, y_pred))"
   ]
  },
  {
   "cell_type": "markdown",
   "id": "8fa34cd2",
   "metadata": {},
   "source": [
    "#### Findings :\n",
    "\n",
    "When I set the parameter for the GaussianNB as (var_smoothing=3e-9) which do a prediction on the testing data and it gives a accuracy 68.82%. When using this model to predict training set data, it gives a 69.10%. Both accuracy only have 0.28% differences which is not much differences and we can say that the model does not occur overfitting issue so that the model is good for predicting both training and testing data."
   ]
  },
  {
   "cell_type": "markdown",
   "id": "cbf3e521",
   "metadata": {},
   "source": [
    "### Tuning the Naive Bayes Classifier"
   ]
  },
  {
   "cell_type": "code",
   "execution_count": 29,
   "id": "565bf010",
   "metadata": {},
   "outputs": [
    {
     "name": "stdout",
     "output_type": "stream",
     "text": [
      "{'var_smoothing': 0.001873817422860383}\n",
      "0.6908533105022832\n"
     ]
    }
   ],
   "source": [
    "#Tune the Naives Bayes Classifier\n",
    "# instantiate the GaussianNB() model\n",
    "nbc2 = GaussianNB()\n",
    "\n",
    "# set the hyperparameters for the gridsearchcv to choose the best one\n",
    "# use var_smoothing as the hyperparameter\n",
    "params = {'var_smoothing': np.logspace(0,-9, num=100)}\n",
    "\n",
    "# using gridsearchcv to get the best hyperparameter\n",
    "nbc2_gscv = GridSearchCV(estimator=nbc2, param_grid=params, cv=3, n_jobs=-1, scoring='accuracy') \n",
    "\n",
    "# fit the model with X_train and y_train\n",
    "nbc2_gscv.fit(X_train, y_train)\n",
    "\n",
    "# check the best performance of parameters\n",
    "print(nbc2_gscv.best_params_)\n",
    "\n",
    "# print out the result\n",
    "print(nbc2_gscv.best_score_)"
   ]
  },
  {
   "cell_type": "code",
   "execution_count": 30,
   "id": "65a0ec5d",
   "metadata": {},
   "outputs": [
    {
     "name": "stdout",
     "output_type": "stream",
     "text": [
      "0.6908533105022832\n"
     ]
    }
   ],
   "source": [
    "# check for overfitting\n",
    "# using X_train to do predict and compare with X_test result\n",
    "y_pred = nbc2_gscv.predict(X_train)\n",
    "\n",
    "# check our models performance\n",
    "print(accuracy_score(y_train, y_pred))"
   ]
  },
  {
   "cell_type": "markdown",
   "id": "a9c985f2",
   "metadata": {},
   "source": [
    "#### Findings： \n",
    "\n",
    "After tuning the model:\n",
    "\n",
    "(1) First, we can see that the accuracy becomes 69.09% which compare with the accuracy 68.82% (without tuning) has a improvement of 0.28%.\n",
    "\n",
    "(2) Next, the tuning model do a prediction of the testing set data is 69.09% and when predict the training data which get a same result of 69.09%. We can say that the model does not occur overfitting issue so that the model is good for predicting both training and testing data.\n",
    "\n",
    "(3) The gridsearchcv chose 0.0019 as the best value for the model which give a better accuracy also."
   ]
  },
  {
   "cell_type": "markdown",
   "id": "26890b70",
   "metadata": {},
   "source": [
    "### Accuracy before tuning the model"
   ]
  },
  {
   "cell_type": "code",
   "execution_count": 33,
   "id": "8f47a9f9",
   "metadata": {},
   "outputs": [
    {
     "data": {
      "image/png": "[encoded data removed]",
      "text/plain": [
       "<Figure size 432x288 with 1 Axes>"
      ]
     },
     "metadata": {},
     "output_type": "display_data"
    }
   ],
   "source": [
    "cdf = pd.DataFrame({'Classifiers':['KNN', 'Decision Tree', 'Naive Bayes'], 'Accuracy':[86.54, 81.15, 68.82]})\n",
    "ax = cdf.plot.bar(x='Classifiers', y='Accuracy', rot=0, color = ['Red', 'Blue', 'Orange'])"
   ]
  },
  {
   "cell_type": "markdown",
   "id": "88850550",
   "metadata": {},
   "source": [
    "### Accuracy after tuning the model"
   ]
  },
  {
   "cell_type": "code",
   "execution_count": 34,
   "id": "390d99bb",
   "metadata": {},
   "outputs": [
    {
     "data": {
      "image/png": "[encoded data removed]",
      "text/plain": [
       "<Figure size 432x288 with 1 Axes>"
      ]
     },
     "metadata": {},
     "output_type": "display_data"
    }
   ],
   "source": [
    "cdf = pd.DataFrame({'Classifiers':['KNN', 'Decision Tree', 'Naive Bayes'], 'Accuracy':[86.70, 88.63, 69.09]})\n",
    "ax = cdf.plot.bar(x='Classifiers', y='Accuracy', rot=0, color = ['Red', 'Blue', 'Orange']) "
   ]
  },
  {
   "cell_type": "markdown",
   "id": "cd3abd41",
   "metadata": {},
   "source": [
    "## Comparing the accuracies of all 3 Classifiers"
   ]
  },
  {
   "cell_type": "markdown",
   "id": "18c7f32f",
   "metadata": {},
   "source": [
    "#### Finding of comparing these 3 classification models above:\n",
    "    \n",
    "In this task, we have used KNN Classifier model, Decisioin Tree Classifier model and Naive Bayes Classifier model to solve the classification problem.\n",
    "\n",
    "Among these 3 models, KNN classifier model and Decisioin Tree Classifier model work quite well in this task. KNN classifier model gets 86.54%% and 86.70% before and after tuning the models.For Decision Tree classifier model gets  81.15% and 88.63% before and after tuning the model.\n",
    "\n",
    "Besides that, these 3 models do not have any underfitting and overfitting problems as I have showed above.\n",
    "\n",
    "Howver, Naive Bayes Classifier model gives a poor result in solving the classification problem of this task even after tuning the model.\n",
    "\n"
   ]
  },
  {
   "cell_type": "markdown",
   "id": "4a7ffd03",
   "metadata": {},
   "source": [
    "## User-Defined Transform functionality"
   ]
  },
  {
   "cell_type": "code",
   "execution_count": 35,
   "id": "b7fca247",
   "metadata": {},
   "outputs": [],
   "source": [
    "# define a class to generate a user-defined-transform function\n",
    "class UserDefinedTransform(BaseEstimator, TransformerMixin):\n",
    "    # initialize the constructor\n",
    "    def __init__(self, nsm_lvl=True):\n",
    "        self.nsm_lvl = nsm_lvl\n",
    "    \n",
    "    # define a fit function\n",
    "    def fit(self, X, y=None):\n",
    "        return self \n",
    "    \n",
    "    # define a transform function \n",
    "    def transform(self, X, y=None):\n",
    "        # using if else statement to take different actions\n",
    "        if self.nsm_lvl:\n",
    "            \n",
    "            # divide into the different NSM range and insert them into the columns called NSM_Group\n",
    "            df['NSM_Level'] = pd.cut(df['NSM'], 3, precision=0, labels=['1', '2', '3'])\n",
    "            \n",
    "            # insert the column NSM_Group to the right position\n",
    "            nsm_lvl = df.pop('NSM_Level')\n",
    "            df.insert(7, 'NSM_Level', nsm_lvl)\n",
    "            \n",
    "            # retrun the result\n",
    "            return np.c_[X, nsm_lvl]\n",
    "        else:\n",
    "            # alert the user if got any error to create a new feature\n",
    "            return print(\"Please check the values of 'NSM'\")"
   ]
  },
  {
   "cell_type": "markdown",
   "id": "3c3e50e0",
   "metadata": {},
   "source": [
    "#### Findings:\n",
    "\n",
    "(1) We generate a new feature called 'NSM_Level'.\n",
    "\n",
    "(2) The new feature 'NSM_Level' has categorize the NSM values into 3 catrgories which has 1, 2 and 3 so that we can based on this new feature to see the NSM belong to low, median or high. But in our case, we use number instead of string to label the category."
   ]
  },
  {
   "cell_type": "code",
   "execution_count": 36,
   "id": "a1be9b66",
   "metadata": {},
   "outputs": [
    {
     "data": {
      "text/plain": [
       "(35040, 7)"
      ]
     },
     "execution_count": 36,
     "metadata": {},
     "output_type": "execute_result"
    }
   ],
   "source": [
    "# show the original X.shape\n",
    "X.shape"
   ]
  },
  {
   "cell_type": "markdown",
   "id": "be0a489b",
   "metadata": {},
   "source": [
    "Findings:\n",
    "\n",
    "(1) Before transform the new feature ('NSM_Level'), X contains 35040 rows and 7 columns."
   ]
  },
  {
   "cell_type": "code",
   "execution_count": 37,
   "id": "185c4000",
   "metadata": {},
   "outputs": [
    {
     "data": {
      "text/plain": [
       "(35040, 8)"
      ]
     },
     "execution_count": 37,
     "metadata": {},
     "output_type": "execute_result"
    }
   ],
   "source": [
    "# create the class object and transfrom the new feature then show the shape of dataframe which excluding the target column\n",
    "attr_adder = UserDefinedTransform(nsm_lvl=True)\n",
    "attr_adder.transform(X).shape"
   ]
  },
  {
   "cell_type": "markdown",
   "id": "c3356f6e",
   "metadata": {},
   "source": [
    "#### Findings:\n",
    "\n",
    "(1) After transform the new feature ('NSM_Level'), X contains 35040 rows and 8 columns."
   ]
  },
  {
   "cell_type": "code",
   "execution_count": 38,
   "id": "ed460f1a",
   "metadata": {},
   "outputs": [
    {
     "data": {
      "text/plain": [
       "0        1\n",
       "1        1\n",
       "2        1\n",
       "3        1\n",
       "4        1\n",
       "        ..\n",
       "35035    3\n",
       "35036    3\n",
       "35037    3\n",
       "35038    3\n",
       "35039    1\n",
       "Name: NSM_Level, Length: 35040, dtype: category\n",
       "Categories (3, object): ['1' < '2' < '3']"
      ]
     },
     "execution_count": 38,
     "metadata": {},
     "output_type": "execute_result"
    }
   ],
   "source": [
    "# display the new feature 'NSM_Level' in the dataframe\n",
    "df['NSM_Level']"
   ]
  },
  {
   "cell_type": "code",
   "execution_count": 39,
   "id": "b3b62f59",
   "metadata": {},
   "outputs": [
    {
     "data": {
      "image/png": "[encoded data removed]",
      "text/plain": [
       "<Figure size 432x288 with 1 Axes>"
      ]
     },
     "metadata": {},
     "output_type": "display_data"
    }
   ],
   "source": [
    "# plot out the graph to see the categories of each Load_Type belongs to\n",
    "plt.scatter(df['Load_Type'], df['NSM_Level'], c='red')\n",
    "\n",
    "# set the graph title\n",
    "plt.title('The categories of each Load_Type belongs to')\n",
    "\n",
    "# set the xlabel and ylabel\n",
    "plt.xlabel('Load_Type')\n",
    "plt.ylabel('NSM_Level')\n",
    "\n",
    "# show the graph\n",
    "plt.show()"
   ]
  },
  {
   "cell_type": "markdown",
   "id": "fbe02b82",
   "metadata": {},
   "source": [
    "#### Findings:\n",
    "\n",
    "(1) Based on the graph above, we can see that most of the Load Types is in NSM_Level 2 and 3.\n",
    "\n",
    "(2) Next, we notice that only Light_Load Type have in NSM_Level 3. "
   ]
  }
 ],
 "metadata": {
  "kernelspec": {
   "display_name": "Python 3 (ipykernel)",
   "language": "python",
   "name": "python3"
  },
  "language_info": {
   "codemirror_mode": {
    "name": "ipython",
    "version": 3
   },
   "file_extension": ".py",
   "mimetype": "text/x-python",
   "name": "python",
   "nbconvert_exporter": "python",
   "pygments_lexer": "ipython3",
   "version": "3.9.7"
  }
 },
 "nbformat": 4,
 "nbformat_minor": 5
}
